{
 "cells": [
  {
   "cell_type": "code",
   "execution_count": 3,
   "metadata": {
    "collapsed": false
   },
   "outputs": [],
   "source": [
    "import emzed"
   ]
  },
  {
   "cell_type": "markdown",
   "metadata": {},
   "source": [
    "# minimal workflow for peak picking and peak shape fitting"
   ]
  },
  {
   "cell_type": "code",
   "execution_count": 4,
   "metadata": {
    "collapsed": false
   },
   "outputs": [
    {
     "name": "stdout",
     "output_type": "stream",
     "text": [
      "(202.00143432617188, 649.9967041015625) (725.765930175781, 1212.01330566406)\n"
     ]
    }
   ],
   "source": [
    "pm = emzed.io.loadPeakMap(\"example1.mzXML\")\n",
    "print pm.mzRange(), pm.rtRange()"
   ]
  },
  {
   "cell_type": "code",
   "execution_count": 5,
   "metadata": {
    "collapsed": false
   },
   "outputs": [
    {
     "name": "stdout",
     "output_type": "stream",
     "text": [
      "(300.00653076171875, 499.9892578125) (725.765930175781, 1212.01330566406)\n"
     ]
    }
   ],
   "source": [
    "pm = pm.extract(mzmin=300, mzmax=500)\n",
    "print pm.mzRange(), pm.rtRange()"
   ]
  },
  {
   "cell_type": "code",
   "execution_count": 6,
   "metadata": {
    "collapsed": false
   },
   "outputs": [
    {
     "name": "stdout",
     "output_type": "stream",
     "text": [
      "\n",
      "========================== RUN FEATURE FINDER METABO ==========================\n",
      "\n",
      "COMMON PARAMETERS\n",
      "\n",
      "common_chrom_fwhm ................. 5.0\n",
      "common_chrom_peak_snr ............. 3.0\n",
      "common_noise_threshold_int ........ 10.0\n",
      "\n",
      "PARAMS MASS TRACE DETECTION:\n",
      "\n",
      "mtd_mass_error_ppm ................ 20.0\n",
      "mtd_max_trace_length .............. 300.0\n",
      "mtd_min_sample_rate ............... 0.5\n",
      "mtd_min_trace_length .............. 5.0\n",
      "mtd_reestimate_mt_sd .............. true\n",
      "mtd_trace_termination_criterion ... outlier\n",
      "mtd_trace_termination_outliers .... 5\n",
      "\n",
      "PARAMS ELUTION PEAK DETECTION:\n",
      "\n",
      "epdet_masstrace_snr_filtering ..... false\n",
      "epdet_max_fwhm .................... 30.0\n",
      "epdet_min_fwhm .................... 5.0\n",
      "epdet_width_filtering ............. auto\n",
      "\n",
      "PARAMS FEATURE FINDER METABO:\n",
      "\n",
      "ffm_charge_lower_bound ............ 1\n",
      "ffm_charge_upper_bound ............ 3\n",
      "ffm_disable_isotope_filtering ..... false\n",
      "ffm_isotope_model ................. metabolites\n",
      "ffm_isotope_noisemodel ............ 5%RMS\n",
      "ffm_local_mz_range ................ 6.5\n",
      "ffm_local_rt_range ................ 10.0\n",
      "ffm_report_summed_ints ............ false\n",
      "ffm_use_smoothed_intensities ...... true\n",
      "\n",
      "\n",
      "============================= 464 SPECS OF LEVEL 1 ============================\n",
      "\n",
      "\n",
      "============================ FOUND 1410 MASS TRACES ===========================\n",
      "\n",
      "\n",
      "============ 1560 SPLITTED MASS TRACES AFTER ELUTION PEAK DETECTION ===========\n",
      "\n",
      "\n",
      "============================= FOUND 1457 FEATURES =============================\n",
      "\n"
     ]
    },
    {
     "name": "stderr",
     "output_type": "stream",
     "text": [
      "/Users/uweschmitt/Projects/emzed2/src/emzed/ff/_metaboff.py:246: UserWarning: you did not provide a type_ parameter, this might be dangerous !!!!\n",
      "  tab.replaceColumn(\"mz\", recalc)\n"
     ]
    },
    {
     "name": "stdout",
     "output_type": "stream",
     "text": [
      "\n",
      "======================== NEEDED 0 MINUTES AND 4 SECONDS =======================\n",
      "\n"
     ]
    }
   ],
   "source": [
    "peaks = emzed.ff.runMetaboFeatureFinder(pm, epdet_max_fwhm=30.0, epdet_min_fwhm=5.0)"
   ]
  },
  {
   "cell_type": "code",
   "execution_count": 7,
   "metadata": {
    "collapsed": false
   },
   "outputs": [
    {
     "name": "stdout",
     "output_type": "stream",
     "text": [
      "\n",
      "integrate table using 4 processes\n",
      "\n",
      "0 5 10 15 20 25 30 35 40 45 50 55 60 65 70 75 80 85 90 95 100\n",
      "needed 1.9 seconds\n"
     ]
    }
   ],
   "source": [
    "peaks = emzed.utils.integrate(peaks, n_cpus=4)"
   ]
  },
  {
   "cell_type": "code",
   "execution_count": 8,
   "metadata": {
    "collapsed": false
   },
   "outputs": [
    {
     "data": {
      "text/plain": [
       "True"
      ]
     },
     "execution_count": 8,
     "metadata": {},
     "output_type": "execute_result"
    }
   ],
   "source": [
    "%%capture\n",
    "peaks.setColFormat(\"peakmap\", \"%s\")\n",
    "emzed.gui.inspect(peaks)"
   ]
  },
  {
   "cell_type": "markdown",
   "metadata": {},
   "source": [
    "## R Interface"
   ]
  },
  {
   "cell_type": "code",
   "execution_count": 9,
   "metadata": {
    "collapsed": false
   },
   "outputs": [
    {
     "name": "stdout",
     "output_type": "stream",
     "text": [
      "3\n"
     ]
    }
   ],
   "source": [
    "rip = emzed.r.RInterpreter()\n",
    "\n",
    "rip.execute(\"x <- 3\")\n",
    "print rip.x"
   ]
  },
  {
   "cell_type": "code",
   "execution_count": 10,
   "metadata": {
    "collapsed": false
   },
   "outputs": [
    {
     "name": "stdout",
     "output_type": "stream",
     "text": [
      "id       feature_id mz        rt       intensity   fwhm     z        source        \n",
      "int      int        float     float    float       float    int      str           \n",
      "------   ------     ------    ------   ------      ------   ------   ------        \n",
      "0        0          505.98672 15.37m   23400000.00 16.20    1        example1.mzXML\n",
      "1        0          506.99009 15.37m   23400000.00 16.20    1        example1.mzXML\n",
      "2        0          507.99120 15.37m   23400000.00 16.20    1        example1.mzXML\n",
      "3        1          332.05748 13.18m   13600000.00 16.80    0        example1.mzXML\n",
      "4        2          615.72842 15.71m   4560000.00  13.80    2        example1.mzXML\n",
      "5        2          616.23003 15.71m   4560000.00  13.80    2        example1.mzXML\n",
      "6        2          616.73102 15.71m   4560000.00  13.80    2        example1.mzXML\n",
      "7        3          372.08195 13.14m   12900000.00 16.20    0        example1.mzXML\n",
      "8        4          580.09612 13.65m   11400000.00 15.60    0        example1.mzXML\n",
      "9        5          265.04169 12.81m   10700000.00 16.80    0        example1.mzXML\n",
      "10       6          259.02161 12.83m   9560000.00  17.40    1        example1.mzXML\n",
      "11       6          260.02489 12.83m   9560000.00  17.40    1        example1.mzXML\n",
      "12       7          565.04581 13.65m   9020000.00  15.60    1        example1.mzXML\n",
      "13       7          566.04913 13.65m   9020000.00  15.60    1        example1.mzXML\n",
      "14       7          567.05036 13.65m   9020000.00  15.60    1        example1.mzXML\n",
      "15       8          623.12925 13.72m   9580000.00  16.80    0        example1.mzXML\n",
      "16       9          482.95961 15.21m   8710000.00  17.40    1        example1.mzXML\n",
      "17       9          483.96298 15.21m   8710000.00  17.40    1        example1.mzXML\n",
      "18       10         595.66138 15.71m   6710000.00  14.40    2        example1.mzXML\n",
      "19       10         596.16302 15.71m   6710000.00  14.40    2        example1.mzXML\n",
      "\n"
     ]
    }
   ],
   "source": [
    "t = emzed.io.loadCSV(\"peaks.csv\")\n",
    "t = t[:20]\n",
    "print(t)"
   ]
  },
  {
   "cell_type": "code",
   "execution_count": 11,
   "metadata": {
    "collapsed": false
   },
   "outputs": [
    {
     "name": "stdout",
     "output_type": "stream",
     "text": [
      "   id feature_id       mz    rt intensity fwhm z         source\n",
      "0   0          0 505.9867 922.2  23400000 16.2 1 example1.mzXML\n",
      "1   1          0 506.9901 922.2  23400000 16.2 1 example1.mzXML\n",
      "2   2          0 507.9912 922.2  23400000 16.2 1 example1.mzXML\n",
      "3   3          1 332.0575 790.8  13600000 16.8 0 example1.mzXML\n",
      "4   4          2 615.7284 942.6   4560000 13.8 2 example1.mzXML\n",
      "5   5          2 616.2300 942.6   4560000 13.8 2 example1.mzXML\n",
      "6   6          2 616.7310 942.6   4560000 13.8 2 example1.mzXML\n",
      "7   7          3 372.0820 788.4  12900000 16.2 0 example1.mzXML\n",
      "8   8          4 580.0961 819.0  11400000 15.6 0 example1.mzXML\n",
      "9   9          5 265.0417 768.6  10700000 16.8 0 example1.mzXML\n",
      "10 10          6 259.0216 769.8   9560000 17.4 1 example1.mzXML\n",
      "11 11          6 260.0249 769.8   9560000 17.4 1 example1.mzXML\n",
      "12 12          7 565.0458 819.0   9020000 15.6 1 example1.mzXML\n",
      "13 13          7 566.0491 819.0   9020000 15.6 1 example1.mzXML\n",
      "14 14          7 567.0504 819.0   9020000 15.6 1 example1.mzXML\n",
      "15 15          8 623.1292 823.2   9580000 16.8 0 example1.mzXML\n",
      "16 16          9 482.9596 912.6   8710000 17.4 1 example1.mzXML\n",
      "17 17          9 483.9630 912.6   8710000 17.4 1 example1.mzXML\n",
      "18 18         10 595.6614 942.6   6710000 14.4 2 example1.mzXML\n",
      "19 19         10 596.1630 942.6   6710000 14.4 2 example1.mzXML\n"
     ]
    },
    {
     "data": {
      "text/plain": [
       "<emzed.core.r_connect.r_executor.RInterpreter at 0x11034b5d0>"
      ]
     },
     "execution_count": 11,
     "metadata": {},
     "output_type": "execute_result"
    }
   ],
   "source": [
    "rip.t = t\n",
    "rip.execute(\"print(t)\")"
   ]
  },
  {
   "cell_type": "code",
   "execution_count": 12,
   "metadata": {
    "collapsed": false
   },
   "outputs": [
    {
     "name": "stdout",
     "output_type": "stream",
     "text": [
      "+ \n",
      "+         ag1 <- aggregate(x=t$mz, by=list(t$feature_id), min);\n",
      "+         ag2 <- aggregate(x=t$mz, by=list(t$feature_id), max);\n",
      "+         result <- data.frame(feature_id=ag1$Group, mzmin=ag1$x, mzmax=ag2$x);\n",
      "+ \n",
      "+         })\n"
     ]
    },
    {
     "data": {
      "text/plain": [
       "<emzed.core.r_connect.r_executor.RInterpreter at 0x11034b5d0>"
      ]
     },
     "execution_count": 12,
     "metadata": {},
     "output_type": "execute_result"
    }
   ],
   "source": [
    "rip.execute(\"\"\"\n",
    "\n",
    "        ag1 <- aggregate(x=t$mz, by=list(t$feature_id), min);\n",
    "        ag2 <- aggregate(x=t$mz, by=list(t$feature_id), max);\n",
    "        result <- data.frame(feature_id=ag1$Group, mzmin=ag1$x, mzmax=ag2$x);\n",
    "\n",
    "        \"\"\")"
   ]
  },
  {
   "cell_type": "code",
   "execution_count": 13,
   "metadata": {
    "collapsed": false
   },
   "outputs": [
    {
     "name": "stdout",
     "output_type": "stream",
     "text": [
      "feature_id mzmin      mzmax     \n",
      "int        float      float     \n",
      "------     ------     ------    \n",
      "0          505.986720 507.991200\n",
      "1          332.057480 332.057480\n",
      "2          615.728420 616.731020\n",
      "3          372.081950 372.081950\n",
      "4          580.096120 580.096120\n",
      "5          265.041690 265.041690\n",
      "6          259.021610 260.024890\n",
      "7          565.045810 567.050360\n",
      "8          623.129250 623.129250\n",
      "9          482.959610 483.962980\n",
      "10         595.661380 596.163020\n",
      "\n"
     ]
    }
   ],
   "source": [
    "print rip.result"
   ]
  },
  {
   "cell_type": "code",
   "execution_count": null,
   "metadata": {
    "collapsed": true
   },
   "outputs": [],
   "source": []
  }
 ],
 "metadata": {
  "kernelspec": {
   "display_name": "Python 2",
   "language": "python",
   "name": "python2"
  },
  "language_info": {
   "codemirror_mode": {
    "name": "ipython",
    "version": 2
   },
   "file_extension": ".py",
   "mimetype": "text/x-python",
   "name": "python",
   "nbconvert_exporter": "python",
   "pygments_lexer": "ipython2",
   "version": "2.7.10"
  }
 },
 "nbformat": 4,
 "nbformat_minor": 0
}
